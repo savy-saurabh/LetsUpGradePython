{
  "nbformat": 4,
  "nbformat_minor": 0,
  "metadata": {
    "colab": {
      "name": "Day_2.ipynb",
      "provenance": [],
      "collapsed_sections": []
    },
    "kernelspec": {
      "name": "python3",
      "display_name": "Python 3"
    }
  },
  "cells": [
    {
      "cell_type": "markdown",
      "metadata": {
        "id": "QCfJzJLwCSOG",
        "colab_type": "text"
      },
      "source": [
        "## **1. Lists and its default functions:**"
      ]
    },
    {
      "cell_type": "code",
      "metadata": {
        "id": "kQ9Ny75Q708y",
        "colab_type": "code",
        "colab": {
          "base_uri": "https://localhost:8080/",
          "height": 34
        },
        "outputId": "d7aff05e-aee2-404a-e706-b7e6fc900c02"
      },
      "source": [
        "# Creating a list\n",
        "my_list = [10,2,75,14,12]\n",
        "print(my_list)"
      ],
      "execution_count": 57,
      "outputs": [
        {
          "output_type": "stream",
          "text": [
            "[10, 2, 75, 14, 12]\n"
          ],
          "name": "stdout"
        }
      ]
    },
    {
      "cell_type": "markdown",
      "metadata": {
        "id": "neRon626PERp",
        "colab_type": "text"
      },
      "source": [
        "### **Default Functions in lists:**"
      ]
    },
    {
      "cell_type": "markdown",
      "metadata": {
        "id": "VbyjRWhyPbSU",
        "colab_type": "text"
      },
      "source": [
        "For adding elements in list:\n",
        "1.   append()\n",
        "2.   insert()\n",
        "3.   extend()"
      ]
    },
    {
      "cell_type": "code",
      "metadata": {
        "id": "A8uysBBRFb-U",
        "colab_type": "code",
        "colab": {
          "base_uri": "https://localhost:8080/",
          "height": 86
        },
        "outputId": "b69cb9d4-d917-4fca-b535-b04144962f1a"
      },
      "source": [
        "#APPEND()\n",
        "\n",
        "#Appending elements to the existing list\n",
        "my_list.append('Saurabh')\n",
        "print(my_list)\n",
        "\n",
        "#Appending another list\n",
        "my_lst = [2, 'Harry']\n",
        "my_list.append(my_lst)\n",
        "print(my_list)\n",
        "\n",
        "#Appending Tuples to list\n",
        "my_list.append((4, 'Pola'))\n",
        "print(my_list)\n",
        "\n",
        "#Size of the list\n",
        "print(\"Size of the list:\",len(my_list))"
      ],
      "execution_count": 58,
      "outputs": [
        {
          "output_type": "stream",
          "text": [
            "[10, 2, 75, 14, 12, 'Saurabh']\n",
            "[10, 2, 75, 14, 12, 'Saurabh', [2, 'Harry']]\n",
            "[10, 2, 75, 14, 12, 'Saurabh', [2, 'Harry'], (4, 'Pola')]\n",
            "Size of the list: 8\n"
          ],
          "name": "stdout"
        }
      ]
    },
    {
      "cell_type": "code",
      "metadata": {
        "id": "iAL5eTZwRcuq",
        "colab_type": "code",
        "colab": {
          "base_uri": "https://localhost:8080/",
          "height": 51
        },
        "outputId": "1a6089ee-f2f7-4010-900a-ab6bc0d9dc4f"
      },
      "source": [
        "#INSERT()\n",
        "\n",
        "#Inserting integer at 2nd position\n",
        "my_list.insert(2, 20)\n",
        "print(my_list)\n",
        "\n",
        "#Inserting string at 4th position\n",
        "my_list.insert(4, 'Denmark')\n",
        "print(my_list)"
      ],
      "execution_count": 59,
      "outputs": [
        {
          "output_type": "stream",
          "text": [
            "[10, 2, 20, 75, 14, 12, 'Saurabh', [2, 'Harry'], (4, 'Pola')]\n",
            "[10, 2, 20, 75, 'Denmark', 14, 12, 'Saurabh', [2, 'Harry'], (4, 'Pola')]\n"
          ],
          "name": "stdout"
        }
      ]
    },
    {
      "cell_type": "code",
      "metadata": {
        "id": "B3O44JmJWqX3",
        "colab_type": "code",
        "colab": {
          "base_uri": "https://localhost:8080/",
          "height": 34
        },
        "outputId": "69de15f1-8c3e-4fe7-f8f4-74853bc3d352"
      },
      "source": [
        "#EXTEND()\n",
        "\n",
        "#Extending the existing list with another list\n",
        "my_list.extend([8, 'Upgrade', 57])\n",
        "print(my_list)"
      ],
      "execution_count": 60,
      "outputs": [
        {
          "output_type": "stream",
          "text": [
            "[10, 2, 20, 75, 'Denmark', 14, 12, 'Saurabh', [2, 'Harry'], (4, 'Pola'), 8, 'Upgrade', 57]\n"
          ],
          "name": "stdout"
        }
      ]
    },
    {
      "cell_type": "markdown",
      "metadata": {
        "id": "zFxx-yYg1nzm",
        "colab_type": "text"
      },
      "source": [
        "For removing elements from list:\n",
        "1.   remove()\n",
        "2.   pop()\n",
        "3.   clear()\n",
        "4.   del"
      ]
    },
    {
      "cell_type": "code",
      "metadata": {
        "id": "bxTwATWH1-Xk",
        "colab_type": "code",
        "colab": {
          "base_uri": "https://localhost:8080/",
          "height": 34
        },
        "outputId": "6ba04df4-91aa-46aa-f9e0-21def580fd0f"
      },
      "source": [
        "#REMOVE()\n",
        "\n",
        "#Removes the value from the list\n",
        "my_list.remove(14)\n",
        "print(my_list)"
      ],
      "execution_count": 61,
      "outputs": [
        {
          "output_type": "stream",
          "text": [
            "[10, 2, 20, 75, 'Denmark', 12, 'Saurabh', [2, 'Harry'], (4, 'Pola'), 8, 'Upgrade', 57]\n"
          ],
          "name": "stdout"
        }
      ]
    },
    {
      "cell_type": "code",
      "metadata": {
        "id": "a4Xawm2B3gyr",
        "colab_type": "code",
        "colab": {
          "base_uri": "https://localhost:8080/",
          "height": 34
        },
        "outputId": "a6e47151-8917-4ff5-8358-3d4b19969f6f"
      },
      "source": [
        "#POP()\n",
        "\n",
        "#Deletes an element from a particular position\n",
        "my_list.pop(8)\n",
        "print(my_list)"
      ],
      "execution_count": 62,
      "outputs": [
        {
          "output_type": "stream",
          "text": [
            "[10, 2, 20, 75, 'Denmark', 12, 'Saurabh', [2, 'Harry'], 8, 'Upgrade', 57]\n"
          ],
          "name": "stdout"
        }
      ]
    },
    {
      "cell_type": "code",
      "metadata": {
        "id": "yJSoHhFp_PWs",
        "colab_type": "code",
        "colab": {
          "base_uri": "https://localhost:8080/",
          "height": 51
        },
        "outputId": "b1926a78-f94b-4c75-b4c2-ebf13b01005e"
      },
      "source": [
        "#CLEAR()\n",
        "\n",
        "#Clears all the elements from a list\n",
        "my_lst.clear()\n",
        "print(my_list)\n",
        "my_list.pop(7)\n",
        "print(my_list)"
      ],
      "execution_count": 63,
      "outputs": [
        {
          "output_type": "stream",
          "text": [
            "[10, 2, 20, 75, 'Denmark', 12, 'Saurabh', [], 8, 'Upgrade', 57]\n",
            "[10, 2, 20, 75, 'Denmark', 12, 'Saurabh', 8, 'Upgrade', 57]\n"
          ],
          "name": "stdout"
        }
      ]
    },
    {
      "cell_type": "code",
      "metadata": {
        "id": "DnlhLiX0Egws",
        "colab_type": "code",
        "colab": {
          "base_uri": "https://localhost:8080/",
          "height": 51
        },
        "outputId": "555a8f58-7d66-47ea-9e4a-4a204409886b"
      },
      "source": [
        "#DEL\n",
        "\n",
        "my_lst=[21, 45, 'Star']\n",
        "print(my_lst)\n",
        "#Delete all the elements from the lists\n",
        "del my_lst[1 : ]\n",
        "print(my_lst)"
      ],
      "execution_count": 64,
      "outputs": [
        {
          "output_type": "stream",
          "text": [
            "[21, 45, 'Star']\n",
            "[21]\n"
          ],
          "name": "stdout"
        }
      ]
    },
    {
      "cell_type": "markdown",
      "metadata": {
        "id": "GtCo9pUlKMhh",
        "colab_type": "text"
      },
      "source": [
        "Sorting a list in ascending order:\n",
        "*   sort()\n",
        "\n",
        "Reversing a list:\n",
        "*   reverse()\n",
        "\n",
        "\n",
        "\n"
      ]
    },
    {
      "cell_type": "code",
      "metadata": {
        "id": "z7pRPCVdLvyF",
        "colab_type": "code",
        "colab": {
          "base_uri": "https://localhost:8080/",
          "height": 34
        },
        "outputId": "20e912f0-041c-4bf4-dd87-c5b4b76ec81f"
      },
      "source": [
        "#SORT()\n",
        "\n",
        "#Removing all the elements containing strings\n",
        "my_list.pop(4)\n",
        "my_list.pop(5)\n",
        "my_list.pop(6)\n",
        "\n",
        "#Sorting the list in ascending order\n",
        "my_list.sort()\n",
        "print(my_list)"
      ],
      "execution_count": 65,
      "outputs": [
        {
          "output_type": "stream",
          "text": [
            "[2, 8, 10, 12, 20, 57, 75]\n"
          ],
          "name": "stdout"
        }
      ]
    },
    {
      "cell_type": "markdown",
      "metadata": {
        "id": "wpZ3gwvNOU3f",
        "colab_type": "text"
      },
      "source": [
        "## **2. Dictionary and its default functions:**"
      ]
    },
    {
      "cell_type": "code",
      "metadata": {
        "id": "yBZUHOzzOfeC",
        "colab_type": "code",
        "colab": {
          "base_uri": "https://localhost:8080/",
          "height": 103
        },
        "outputId": "6d5e85c8-93f8-41a3-e8d2-5b39fe7daf72"
      },
      "source": [
        "#Creating a dictionary\n",
        "\n",
        "d1 = {'Name': 'Saurabh', 'Age': 22, 1 : [1, 2, 5, 6]}\n",
        "print(d1)\n",
        "print(type(d1))\n",
        "\n",
        "\n",
        "#Creating a dictionary using dict() function\n",
        "d2 = {} #Creating an empty dictionary\n",
        "d2 = dict({2 : [2,0,2,0], 'SuperHero' : 'Minnal Murali'})\n",
        "print(d2)\n",
        "\n",
        "#Creating dictionary with each item as pair\n",
        "d2 = dict([('America', 'Trump'), ('India' , 'Modi')])\n",
        "print(d2)\n",
        "\n",
        "#Nested Dictionary\n",
        "d3 = {'Film': {'Batman': 'Christian Bale', 'Iron-Man': 'Robert Downey Jr.'}}\n",
        "print(d3)"
      ],
      "execution_count": 1,
      "outputs": [
        {
          "output_type": "stream",
          "text": [
            "{'Name': 'Saurabh', 'Age': 22, 1: [1, 2, 5, 6]}\n",
            "<class 'dict'>\n",
            "{2: [2, 0, 2, 0], 'SuperHero': 'Minnal Murali'}\n",
            "{'America': 'Trump', 'India': 'Modi'}\n",
            "{'Film': {'Batman': 'Christian Bale', 'Iron-Man': 'Robert Downey Jr.'}}\n"
          ],
          "name": "stdout"
        }
      ]
    },
    {
      "cell_type": "markdown",
      "metadata": {
        "id": "_0KIeypCVMWg",
        "colab_type": "text"
      },
      "source": [
        "### **Default functions in dictionary:**"
      ]
    },
    {
      "cell_type": "markdown",
      "metadata": {
        "id": "pSwkNg8cVcza",
        "colab_type": "text"
      },
      "source": [
        "To obtain keys used in a particular dictionary:\n",
        "*   keys()\n",
        "\n",
        "To obtain values of those particular keys used:\n",
        "*   dictionary_name.values()\n",
        "\n",
        "To access the value of a particular key:\n",
        "*   get()\n",
        "\n",
        "To update the current dictionary with another one:\n",
        "*   update()\n",
        "\n",
        "To remove an arbitrary key-value pair from the dictionary:\n",
        "*   popitem()\n",
        "\n",
        "To remove a particular key-value pair from the dictionary:\n",
        "*   pop()\n",
        "\n",
        "\n",
        "\n",
        "\n",
        "\n",
        "\n",
        "\n",
        "\n",
        "\n"
      ]
    },
    {
      "cell_type": "code",
      "metadata": {
        "id": "m8Fnf1_awXZ2",
        "colab_type": "code",
        "colab": {
          "base_uri": "https://localhost:8080/",
          "height": 34
        },
        "outputId": "7751e319-9937-4882-ec7f-3eeb5e1159a1"
      },
      "source": [
        "#KEYS()\n",
        "\n",
        "d1.keys()"
      ],
      "execution_count": 3,
      "outputs": [
        {
          "output_type": "execute_result",
          "data": {
            "text/plain": [
              "dict_keys(['Name', 'Age', 1])"
            ]
          },
          "metadata": {
            "tags": []
          },
          "execution_count": 3
        }
      ]
    },
    {
      "cell_type": "code",
      "metadata": {
        "id": "_gIel5w_VaZP",
        "colab_type": "code",
        "colab": {
          "base_uri": "https://localhost:8080/",
          "height": 34
        },
        "outputId": "59387c97-8548-4baa-96c7-5318f7a939e6"
      },
      "source": [
        "#VALUES()\n",
        "\n",
        "d1.values()"
      ],
      "execution_count": 4,
      "outputs": [
        {
          "output_type": "execute_result",
          "data": {
            "text/plain": [
              "dict_values(['Saurabh', 22, [1, 2, 5, 6]])"
            ]
          },
          "metadata": {
            "tags": []
          },
          "execution_count": 4
        }
      ]
    },
    {
      "cell_type": "code",
      "metadata": {
        "id": "UusGmFYyxYYa",
        "colab_type": "code",
        "colab": {
          "base_uri": "https://localhost:8080/",
          "height": 34
        },
        "outputId": "934811c6-812b-458b-d43a-45725b4496a2"
      },
      "source": [
        "#GET()\n",
        "\n",
        "#To obtain the value of a particular key\n",
        "d1.get(\"Name\")"
      ],
      "execution_count": 5,
      "outputs": [
        {
          "output_type": "execute_result",
          "data": {
            "application/vnd.google.colaboratory.intrinsic+json": {
              "type": "string"
            },
            "text/plain": [
              "'Saurabh'"
            ]
          },
          "metadata": {
            "tags": []
          },
          "execution_count": 5
        }
      ]
    },
    {
      "cell_type": "code",
      "metadata": {
        "id": "owXTqkQhyGIj",
        "colab_type": "code",
        "colab": {
          "base_uri": "https://localhost:8080/",
          "height": 103
        },
        "outputId": "3e2bd16b-8b63-4f88-86ad-91376a3a116b"
      },
      "source": [
        "#UPDATE()\n",
        "\n",
        "#To update a dictionary with another dictionary\n",
        "d1.update(d2)\n",
        "d1"
      ],
      "execution_count": 6,
      "outputs": [
        {
          "output_type": "execute_result",
          "data": {
            "text/plain": [
              "{1: [1, 2, 5, 6],\n",
              " 'Age': 22,\n",
              " 'America': 'Trump',\n",
              " 'India': 'Modi',\n",
              " 'Name': 'Saurabh'}"
            ]
          },
          "metadata": {
            "tags": []
          },
          "execution_count": 6
        }
      ]
    },
    {
      "cell_type": "code",
      "metadata": {
        "id": "emW5sxFPy4mU",
        "colab_type": "code",
        "colab": {
          "base_uri": "https://localhost:8080/",
          "height": 34
        },
        "outputId": "a934535c-799b-4da2-ea77-3babf64c56b0"
      },
      "source": [
        "#POPITEM()\n",
        "\n",
        "#To remove a arbitrary key-value \n",
        "d1.popitem()\n",
        "d1"
      ],
      "execution_count": 7,
      "outputs": [
        {
          "output_type": "execute_result",
          "data": {
            "text/plain": [
              "{1: [1, 2, 5, 6], 'Age': 22, 'America': 'Trump', 'Name': 'Saurabh'}"
            ]
          },
          "metadata": {
            "tags": []
          },
          "execution_count": 7
        }
      ]
    },
    {
      "cell_type": "code",
      "metadata": {
        "id": "xeQ7Osx91LHT",
        "colab_type": "code",
        "colab": {
          "base_uri": "https://localhost:8080/",
          "height": 34
        },
        "outputId": "5542d0de-29da-4891-e3fc-f1bfe409c69a"
      },
      "source": [
        "#POP()\n",
        "\n",
        "#To remove a particular key-value pair\n",
        "d1.pop('America')\n",
        "d1"
      ],
      "execution_count": 8,
      "outputs": [
        {
          "output_type": "execute_result",
          "data": {
            "text/plain": [
              "{1: [1, 2, 5, 6], 'Age': 22, 'Name': 'Saurabh'}"
            ]
          },
          "metadata": {
            "tags": []
          },
          "execution_count": 8
        }
      ]
    },
    {
      "cell_type": "markdown",
      "metadata": {
        "id": "R5gsyPnt8jDS",
        "colab_type": "text"
      },
      "source": [
        "## **3. Sets and its default functions:**"
      ]
    },
    {
      "cell_type": "code",
      "metadata": {
        "id": "WwfIpLwuAbg-",
        "colab_type": "code",
        "colab": {
          "base_uri": "https://localhost:8080/",
          "height": 51
        },
        "outputId": "c4edcd69-6ec5-4a5f-d034-66d643e5f24c"
      },
      "source": [
        "#Creating a set\n",
        "\n",
        "s1 = {'a', 'e', 'i', 'o','u'}\n",
        "print(s1)\n",
        "\n",
        "#Creating a set using set()\n",
        "s2 =  set(['a','e','i','o','u'])\n",
        "print(s2)"
      ],
      "execution_count": 13,
      "outputs": [
        {
          "output_type": "stream",
          "text": [
            "{'e', 'o', 'a', 'u', 'i'}\n",
            "{'e', 'o', 'a', 'u', 'i'}\n"
          ],
          "name": "stdout"
        }
      ]
    },
    {
      "cell_type": "markdown",
      "metadata": {
        "id": "R6UARN8TKK7w",
        "colab_type": "text"
      },
      "source": [
        "### **Default functions used in sets:**"
      ]
    },
    {
      "cell_type": "markdown",
      "metadata": {
        "id": "iuEaumkFKUcH",
        "colab_type": "text"
      },
      "source": [
        "Adding elements in sets or inserting elements:\n",
        "*   add()\n",
        "\n",
        "Union in sets i.e. to merge any two sets removing duplicates:\n",
        "*   union() or |   \n",
        "\n",
        "Intersection in sets or to find common elements :\n",
        "*   intersection() or &\n",
        "\n",
        "To find difference in sets i.e. to find uncommon elements:\n",
        "*   difference() or -\n",
        "\n",
        "To clear all the elements in sets:\n",
        "*   clear()"
      ]
    },
    {
      "cell_type": "code",
      "metadata": {
        "id": "A6kAGy6WMiOQ",
        "colab_type": "code",
        "colab": {
          "base_uri": "https://localhost:8080/",
          "height": 34
        },
        "outputId": "b65dd83a-a61c-47b1-c1d9-7c7d35d4e762"
      },
      "source": [
        "#ADD()\n",
        "\n",
        "#Adding elements to set\n",
        "s1.add(2)\n",
        "s1.add(45)\n",
        "s1"
      ],
      "execution_count": 20,
      "outputs": [
        {
          "output_type": "execute_result",
          "data": {
            "text/plain": [
              "{2, 45, 'a', 'e', 'i', 'o', 'u'}"
            ]
          },
          "metadata": {
            "tags": []
          },
          "execution_count": 20
        }
      ]
    },
    {
      "cell_type": "code",
      "metadata": {
        "id": "8ZbgKOeZUuJs",
        "colab_type": "code",
        "colab": {
          "base_uri": "https://localhost:8080/",
          "height": 34
        },
        "outputId": "cd911cf6-5f7b-4965-99a0-324953f65b64"
      },
      "source": [
        "#UNION() or |\n",
        "\n",
        "#Merging two sets using union() or '|' \n",
        "#and removing duplicates \n",
        "\n",
        "s2 = set([2, 45, 54, 66, 45])\n",
        "#s3 = s1.union(s2)\n",
        "s3 = s1 | s2\n",
        "print(s3)"
      ],
      "execution_count": 21,
      "outputs": [
        {
          "output_type": "stream",
          "text": [
            "{2, 66, 'e', 'o', 45, 'a', 54, 'u', 'i'}\n"
          ],
          "name": "stdout"
        }
      ]
    },
    {
      "cell_type": "code",
      "metadata": {
        "id": "4qCn4bVXV7DC",
        "colab_type": "code",
        "colab": {
          "base_uri": "https://localhost:8080/",
          "height": 34
        },
        "outputId": "9f3d3eaa-eba8-4369-e95e-e0f27456b9de"
      },
      "source": [
        "#INTERSECTION() or &\n",
        "\n",
        "#To obtain common elements using intersection() or '&'\n",
        "\n",
        "#s4 = s1.intersection(s2)\n",
        "s4 = s1 & s2\n",
        "print(s4)"
      ],
      "execution_count": 22,
      "outputs": [
        {
          "output_type": "stream",
          "text": [
            "{2, 45}\n"
          ],
          "name": "stdout"
        }
      ]
    },
    {
      "cell_type": "code",
      "metadata": {
        "id": "UT2xxtScWnyQ",
        "colab_type": "code",
        "colab": {
          "base_uri": "https://localhost:8080/",
          "height": 51
        },
        "outputId": "eecce7ab-2997-40fc-a2ad-2cfc04851123"
      },
      "source": [
        "#DIFFERENCE()\n",
        "\n",
        "#To obtain uncommon elements from the sets\n",
        "\n",
        "s5 = s1.difference(s2)\n",
        "s6 = s2.difference(s1)\n",
        "#s5 = s1 - s2\n",
        "print(s5)\n",
        "print(s6)"
      ],
      "execution_count": 24,
      "outputs": [
        {
          "output_type": "stream",
          "text": [
            "{'e', 'o', 'a', 'u', 'i'}\n",
            "{66, 54}\n"
          ],
          "name": "stdout"
        }
      ]
    },
    {
      "cell_type": "code",
      "metadata": {
        "id": "nrAvfiWqXkJl",
        "colab_type": "code",
        "colab": {
          "base_uri": "https://localhost:8080/",
          "height": 34
        },
        "outputId": "f7e4fde0-7dc0-4721-c952-35daf5bec739"
      },
      "source": [
        "#CLEAR()\n",
        "\n",
        "#For clearing all the elements from a set\n",
        "s2.clear()\n",
        "s2"
      ],
      "execution_count": 25,
      "outputs": [
        {
          "output_type": "execute_result",
          "data": {
            "text/plain": [
              "set()"
            ]
          },
          "metadata": {
            "tags": []
          },
          "execution_count": 25
        }
      ]
    },
    {
      "cell_type": "markdown",
      "metadata": {
        "id": "JrdO6nZ7eS9A",
        "colab_type": "text"
      },
      "source": [
        "## **4. Tuples and its default functions:**"
      ]
    },
    {
      "cell_type": "code",
      "metadata": {
        "id": "sEh3bCGtebx3",
        "colab_type": "code",
        "colab": {
          "base_uri": "https://localhost:8080/",
          "height": 51
        },
        "outputId": "e0687c81-edb0-4e4b-92fa-e837d89b4413"
      },
      "source": [
        "#Creating tuples\n",
        "\n",
        "#One way:\n",
        "t1 = 1, 2\n",
        "print(t1)\n",
        "\n",
        "#Second Way:\n",
        "t2 = 'Om','Shri'\n",
        "print(t2)"
      ],
      "execution_count": 26,
      "outputs": [
        {
          "output_type": "stream",
          "text": [
            "(1, 2)\n",
            "('Om', 'Shri')\n"
          ],
          "name": "stdout"
        }
      ]
    },
    {
      "cell_type": "markdown",
      "metadata": {
        "id": "6hgqtO9sfIQ1",
        "colab_type": "text"
      },
      "source": [
        "### **Default functions in tuple:**"
      ]
    },
    {
      "cell_type": "markdown",
      "metadata": {
        "id": "ZT-lotmAfO_q",
        "colab_type": "text"
      },
      "source": [
        "Concatenating two tuples:\n",
        "*   tuple1 + tuple2\n",
        "\n",
        "Nesting of tuples:\n",
        "*   tuple3 = (tuple1, tuple2)\n",
        "\n",
        "To find the max value:\n",
        "*   max()\n",
        "\n",
        "To find the min value:\n",
        "*   min()\n",
        "\n",
        "To convert any sequence into tuple:\n",
        "*   tuple(seq)\n",
        "\n"
      ]
    },
    {
      "cell_type": "code",
      "metadata": {
        "id": "GULkksuXfN_s",
        "colab_type": "code",
        "colab": {
          "base_uri": "https://localhost:8080/",
          "height": 34
        },
        "outputId": "eaa9d41b-e6b1-4c0a-cae1-0473742f9f41"
      },
      "source": [
        "#Concatenation\n",
        "\n",
        "t3 = t1 + t2\n",
        "print(t3)"
      ],
      "execution_count": 27,
      "outputs": [
        {
          "output_type": "stream",
          "text": [
            "(1, 2, 'Om', 'Shri')\n"
          ],
          "name": "stdout"
        }
      ]
    },
    {
      "cell_type": "code",
      "metadata": {
        "id": "lvLEoohOsgZW",
        "colab_type": "code",
        "colab": {
          "base_uri": "https://localhost:8080/",
          "height": 34
        },
        "outputId": "47361ede-6f21-4e15-b50c-a551a63b2e8a"
      },
      "source": [
        "#Nesting \n",
        "\n",
        "t4 = (t1, t3)\n",
        "print(t4)"
      ],
      "execution_count": 28,
      "outputs": [
        {
          "output_type": "stream",
          "text": [
            "((1, 2), (1, 2, 'Om', 'Shri'))\n"
          ],
          "name": "stdout"
        }
      ]
    },
    {
      "cell_type": "code",
      "metadata": {
        "id": "t2sUY9fJs7nv",
        "colab_type": "code",
        "colab": {
          "base_uri": "https://localhost:8080/",
          "height": 51
        },
        "outputId": "82ce82ac-32db-4102-d515-cecaa9ea4b0f"
      },
      "source": [
        "#To obtain the maximum value entered in tuple\n",
        "\n",
        "print(max(t1))\n",
        "print(max(t4))"
      ],
      "execution_count": 32,
      "outputs": [
        {
          "output_type": "stream",
          "text": [
            "2\n",
            "(1, 2, 'Om', 'Shri')\n"
          ],
          "name": "stdout"
        }
      ]
    },
    {
      "cell_type": "code",
      "metadata": {
        "id": "RIg2_6Rwvvmj",
        "colab_type": "code",
        "colab": {
          "base_uri": "https://localhost:8080/",
          "height": 51
        },
        "outputId": "49119bb0-fdc1-4442-88b2-8bc2797f09e5"
      },
      "source": [
        "#To obtain the minimum value entered in tuple\n",
        "\n",
        "print(min(t2))\n",
        "print(min(t4))"
      ],
      "execution_count": 33,
      "outputs": [
        {
          "output_type": "stream",
          "text": [
            "Om\n",
            "(1, 2)\n"
          ],
          "name": "stdout"
        }
      ]
    },
    {
      "cell_type": "code",
      "metadata": {
        "id": "qBlimqrpv8a0",
        "colab_type": "code",
        "colab": {
          "base_uri": "https://localhost:8080/",
          "height": 34
        },
        "outputId": "d8cb4468-084c-4d44-b875-c5e29e788824"
      },
      "source": [
        "#To convert any sequnece into tuple\n",
        "\n",
        "t5 = tuple([12, 45, 78, 56, 90])\n",
        "print(t5)"
      ],
      "execution_count": 35,
      "outputs": [
        {
          "output_type": "stream",
          "text": [
            "(12, 45, 78, 56, 90)\n"
          ],
          "name": "stdout"
        }
      ]
    },
    {
      "cell_type": "markdown",
      "metadata": {
        "id": "3XQSnwVHwRvR",
        "colab_type": "text"
      },
      "source": [
        "## **5. String and its default functions:**"
      ]
    },
    {
      "cell_type": "code",
      "metadata": {
        "id": "3mIOXtSQwiNW",
        "colab_type": "code",
        "colab": {
          "base_uri": "https://localhost:8080/",
          "height": 51
        },
        "outputId": "af43b8d2-fa4c-4ddf-a33b-893cd673fb8c"
      },
      "source": [
        "#Creating a string\n",
        "\n",
        "Str = \"My favorite destination to travel is Prague, Prague is famous for its cuisine\"\n",
        "print(Str)\n",
        "\n",
        "#For creating(left, centre, right) alignment in the strings:\n",
        "S2 = \"{:<2}{:^5}{:>2} \".format('I','love','Bengaluru') \n",
        "print(S2)"
      ],
      "execution_count": 63,
      "outputs": [
        {
          "output_type": "stream",
          "text": [
            "My favorite destination to travel is Prague, Prague is famous for its cuisine\n",
            "I love Bengaluru \n"
          ],
          "name": "stdout"
        }
      ]
    },
    {
      "cell_type": "markdown",
      "metadata": {
        "id": "8f0rBJkgTzlF",
        "colab_type": "text"
      },
      "source": [
        "### **Default functions used in string:**"
      ]
    },
    {
      "cell_type": "markdown",
      "metadata": {
        "id": "aVmHm5tBMgde",
        "colab_type": "text"
      },
      "source": [
        "To find the total length of the string:\n",
        "*   string.len\n",
        "\n",
        "To convert a string containing lower and uppercase letters to upper and lowercase respectivey\n",
        "*   string.swapcase\n",
        "\n",
        "To replace a certain character in the string\n",
        "*   string.replace\n",
        "\n",
        "To count number of occurences of a substring in a string\n",
        "*   string.count\n",
        "\n",
        "To find the highest index\n",
        "*   string.rindex\n"
      ]
    },
    {
      "cell_type": "code",
      "metadata": {
        "id": "AGQ3ornEL_wn",
        "colab_type": "code",
        "colab": {
          "base_uri": "https://localhost:8080/",
          "height": 34
        },
        "outputId": "2bed9589-5753-46ae-83fc-aee079851465"
      },
      "source": [
        "#Length of string:\n",
        "\n",
        "len(Str)"
      ],
      "execution_count": 64,
      "outputs": [
        {
          "output_type": "execute_result",
          "data": {
            "text/plain": [
              "77"
            ]
          },
          "metadata": {
            "tags": []
          },
          "execution_count": 64
        }
      ]
    },
    {
      "cell_type": "code",
      "metadata": {
        "id": "dNxB1TD5OCm5",
        "colab_type": "code",
        "colab": {
          "base_uri": "https://localhost:8080/",
          "height": 34
        },
        "outputId": "560c536a-0e68-446a-a5b0-6219e43dd3ff"
      },
      "source": [
        "#Converting lower to upper case letters and vice versa\n",
        "\n",
        "Str.swapcase()"
      ],
      "execution_count": 65,
      "outputs": [
        {
          "output_type": "execute_result",
          "data": {
            "application/vnd.google.colaboratory.intrinsic+json": {
              "type": "string"
            },
            "text/plain": [
              "'mY FAVORITE DESTINATION TO TRAVEL IS pRAGUE, pRAGUE IS FAMOUS FOR ITS CUISINE'"
            ]
          },
          "metadata": {
            "tags": []
          },
          "execution_count": 65
        }
      ]
    },
    {
      "cell_type": "code",
      "metadata": {
        "id": "_BWuFO1KOLcH",
        "colab_type": "code",
        "colab": {
          "base_uri": "https://localhost:8080/",
          "height": 34
        },
        "outputId": "9cd41a46-1261-40bd-8bc1-1afdc102e9d4"
      },
      "source": [
        "#Replacing a particular character  with another one\n",
        "\n",
        "S1 = Str.replace('Prague', 'Venice')\n",
        "print(S1)"
      ],
      "execution_count": 66,
      "outputs": [
        {
          "output_type": "stream",
          "text": [
            "My favorite destination to travel is Venice, Venice is famous for its cuisine\n"
          ],
          "name": "stdout"
        }
      ]
    },
    {
      "cell_type": "code",
      "metadata": {
        "id": "h2U1Gv8KR10z",
        "colab_type": "code",
        "colab": {
          "base_uri": "https://localhost:8080/",
          "height": 34
        },
        "outputId": "94ff1ef3-d0fb-4325-86b1-d45d780dd74f"
      },
      "source": [
        "#To count number of occurence of a substring in a string\n",
        "\n",
        "Str.count(\"Prague\")"
      ],
      "execution_count": 68,
      "outputs": [
        {
          "output_type": "execute_result",
          "data": {
            "text/plain": [
              "2"
            ]
          },
          "metadata": {
            "tags": []
          },
          "execution_count": 68
        }
      ]
    },
    {
      "cell_type": "code",
      "metadata": {
        "id": "gkKGp4TMTJO0",
        "colab_type": "code",
        "colab": {
          "base_uri": "https://localhost:8080/",
          "height": 34
        },
        "outputId": "7886675f-b479-4bba-a5cf-38ed61ef3732"
      },
      "source": [
        "#To know the highest index of any substring inside a string\n",
        "\n",
        "Str.rindex(\"Prague\")"
      ],
      "execution_count": 69,
      "outputs": [
        {
          "output_type": "execute_result",
          "data": {
            "text/plain": [
              "45"
            ]
          },
          "metadata": {
            "tags": []
          },
          "execution_count": 69
        }
      ]
    }
  ]
}