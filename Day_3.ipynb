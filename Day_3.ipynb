{
  "nbformat": 4,
  "nbformat_minor": 0,
  "metadata": {
    "colab": {
      "name": "Day_3.ipynb",
      "provenance": [],
      "collapsed_sections": []
    },
    "kernelspec": {
      "name": "python3",
      "display_name": "Python 3"
    }
  },
  "cells": [
    {
      "cell_type": "markdown",
      "metadata": {
        "id": "dtxsxMG0pPtQ",
        "colab_type": "text"
      },
      "source": [
        "# **Question 1.**"
      ]
    },
    {
      "cell_type": "code",
      "metadata": {
        "id": "Tay4rhGQlcl6",
        "colab_type": "code",
        "colab": {
          "base_uri": "https://localhost:8080/",
          "height": 86
        },
        "outputId": "219f4830-e4f0-41ad-d7c5-cbb9fcdfd887"
      },
      "source": [
        "altitude = int(input(\"Enter the altitude at which the plane is flying:\\n\"))\n",
        "print(\"Flight's altitude:\",altitude)\n",
        "\n",
        "if altitude <= 1000:\n",
        "  print(\"At \" + str(altitude) + \"ft, it is safe to land\")\n",
        "elif 1000 < altitude <= 5000:\n",
        "  print(\"At \" + str(altitude) + \"ft, please come down to 1000ft\")\n",
        "else:\n",
        "  print(\"At \" + str(altitude) + \"ft, please go around and try again\")"
      ],
      "execution_count": 9,
      "outputs": [
        {
          "output_type": "stream",
          "text": [
            "Enter the altitude at which the plane is flying:\n",
            "1500\n",
            "Flight's altitude: 1500\n",
            "At 1500ft, please come down to 1000ft\n"
          ],
          "name": "stdout"
        }
      ]
    },
    {
      "cell_type": "markdown",
      "metadata": {
        "id": "ziqeXzGsvd5j",
        "colab_type": "text"
      },
      "source": [
        "# **Question 2.**"
      ]
    },
    {
      "cell_type": "code",
      "metadata": {
        "id": "BbUEpmIdvxL1",
        "colab_type": "code",
        "colab": {
          "base_uri": "https://localhost:8080/",
          "height": 106
        },
        "outputId": "d674f3a3-1729-447a-b2ba-16774b6b1baf"
      },
      "source": [
        "x = int(input(\"Enter the range till the number you want to enter\\n\"))\n",
        "prime_no = []\n",
        "for number in range(1, x):\n",
        "  c = 0\n",
        "  for prime in range(1, number):\n",
        "    #print(prime)\n",
        "    if (number%prime) == 0 and (number%2) !=0:\n",
        "      c = c+1\n",
        "  if c == 1:\n",
        "    prime_no.append(number)\n",
        "\n",
        "print(\"The prime numbers for the given range till \"\n",
        " + str(x) + \" are:\\n\",prime_no)"
      ],
      "execution_count": 4,
      "outputs": [
        {
          "output_type": "stream",
          "text": [
            "Enter the range till the number you want to enter\n",
            "200\n",
            "The prime numbers for the given range till 200 are:\n",
            " [3, 5, 7, 11, 13, 17, 19, 23, 29, 31, 37, 41, 43, 47, 53, 59, 61, 67, 71, 73, 79, 83, 89, 97, 101, 103, 107, 109, 113, 127, 131, 137, 139, 149, 151, 157, 163, 167, 173, 179, 181, 191, 193, 197, 199]\n"
          ],
          "name": "stdout"
        }
      ]
    }
  ]
}